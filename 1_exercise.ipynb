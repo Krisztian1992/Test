{
 "cells": [
  {
   "cell_type": "markdown",
   "metadata": {},
   "source": [
    "#### 1. Exercise\n",
    "In this problem, your input is a list of integers, which represents the layout of a 3D structure, cubes arranged into towers in a row. The first number is the height of the first tower,\n",
    "the second is the height of the second and so on. The function has to calculate the surface area of the structure (we suppose the surface area of a single cube is 6 unit). If the input\n",
    "starts as [2, 1], then the first tower connects with the second one in 1 level, which means the surface area is 14 units."
   ]
  },
  {
   "cell_type": "markdown",
   "metadata": {},
   "source": [
    "##### Task description:\n",
    "Example: [2, 1]\n",
    "1. Determine the two opposite sides of the structure: in the case of [2, 1], it is 2 * 2 + 2 * 1 = 6\n",
    "2. Determine the beginning and the ending sides of the structure by height: in the case of [2, 1], it is 2 + 1 = 3\n",
    "3. Determine the bottom and top sides of the structure by the length of the list: in the case of [2, 1], it is 2 * 2 = 4\n",
    "4. Determine the middle part of the structure by compare the elements next to each other: in the case of [2, 1], it is 2 - 1 = 1 --> 1\n",
    "5. The result the sum of the part results: 6 + 3 + 4 + 1 = 14"
   ]
  },
  {
   "cell_type": "code",
   "execution_count": 7,
   "metadata": {},
   "outputs": [],
   "source": [
    "tower_list = [2, 1]"
   ]
  },
  {
   "cell_type": "code",
   "execution_count": 8,
   "metadata": {},
   "outputs": [],
   "source": [
    "def calculate_cube_surface(tower_list:list):\n",
    "    # The function gets a list of integers, which are the height of the cubes.\n",
    "    \n",
    "    if isinstance(tower_list, list):\n",
    "        # Checking the input, which must be a list.\n",
    "\n",
    "        # Define a variable, which stores the surfaces of the elements.\n",
    "        sum_surface = 0\n",
    "        \n",
    "        # Checking the input list, which must be contain at least 1 element.\n",
    "        if len(tower_list) > 0:\n",
    "            # The first step is the following: looping through the list, where we compute the \n",
    "            # opposite side of one element. \n",
    "            for i in range(len(tower_list)):\n",
    "                sum_surface = sum_surface + 2 * tower_list[i] # multiple by 2, because each element has two opposite side\n",
    "\n",
    "            # After that, we add the other sides of the elements: the first and the last element height's of\n",
    "            # the list; the lower and upper sides which are the length of the list of elements.\n",
    "            sum_surface = sum_surface + tower_list[0] + tower_list[-1] + 2 * len(tower_list)\n",
    "\n",
    "            # After that, we maintain the cases, where the list of elements are different in heights. \n",
    "            for i in range(len(tower_list) - 1):\n",
    "                if tower_list[i] > tower_list[i + 1]:\n",
    "                    dis = tower_list[i] - tower_list[i + 1]\n",
    "                    sum_surface += dis\n",
    "                elif tower_list[i] < tower_list[i + 1]:\n",
    "                    dis = tower_list[i + 1] - tower_list[i]\n",
    "                    sum_surface += dis\n",
    "        return sum_surface\n",
    "    return None"
   ]
  },
  {
   "cell_type": "code",
   "execution_count": 9,
   "metadata": {},
   "outputs": [
    {
     "data": {
      "text/plain": [
       "14"
      ]
     },
     "execution_count": 9,
     "metadata": {},
     "output_type": "execute_result"
    }
   ],
   "source": [
    "calculate_cube_surface(tower_list)"
   ]
  }
 ],
 "metadata": {
  "kernelspec": {
   "display_name": "Python 3",
   "language": "python",
   "name": "python3"
  },
  "language_info": {
   "codemirror_mode": {
    "name": "ipython",
    "version": 3
   },
   "file_extension": ".py",
   "mimetype": "text/x-python",
   "name": "python",
   "nbconvert_exporter": "python",
   "pygments_lexer": "ipython3",
   "version": "3.8.5"
  }
 },
 "nbformat": 4,
 "nbformat_minor": 4
}
