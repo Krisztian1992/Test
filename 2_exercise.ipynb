{
 "cells": [
  {
   "cell_type": "markdown",
   "metadata": {},
   "source": [
    "#### 2. Exercise\n",
    "Given the queen's position and the locations of all the obstacles, find and print the number of squares the queen can attack from her position at (𝑟𝑞,𝑐𝑞)."
   ]
  },
  {
   "cell_type": "markdown",
   "metadata": {},
   "source": [
    "##### Task description:\n",
    "1. Creating a 2D array with zeros, which is the chess board.\n",
    "2. Given the queen's position, the function calculate the two orthogonal steps the queen can step.\n",
    "3. Calculating the diagonal steps, the queen can move.\n",
    "4. Summarize the steps, the queen can move without any subtacles on the board.\n",
    "5. Given the subtacles on board, calculate how many steps the subtacles map on the board.\n",
    "6. Substracting the queen's all steps by the subtacles mapping steps.\n",
    "7. The result shows: how many steps the queen can move on the board with any subctales on the play."
   ]
  },
  {
   "cell_type": "code",
   "execution_count": 17,
   "metadata": {},
   "outputs": [],
   "source": [
    "import numpy as np"
   ]
  },
  {
   "cell_type": "code",
   "execution_count": 18,
   "metadata": {},
   "outputs": [],
   "source": [
    "def calculate_queens_step(n: int, r_q: int, c_q: int, obstacles: tuple):\n",
    "    chess_board = np.zeros([n, n], dtype=int)\n",
    "    chess_board[r_q, c_q] = 1\n",
    "    chess_board[:, c_q] = 1\n",
    "    chess_board[r_q, :] = 1\n",
    "    for i in range(n - r_q):\n",
    "        chess_board[r_q + i, c_q + i] = 1\n",
    "        chess_board[r_q - i, c_q - i] = 1\n",
    "        chess_board[r_q + i, c_q - i] = 1\n",
    "        chess_board[r_q - i, c_q + i] = 1\n",
    "    h = np.sum(chess_board[chess_board > 0]) - 1\n",
    "    print(h)\n",
    "    return chess_board"
   ]
  },
  {
   "cell_type": "code",
   "execution_count": 19,
   "metadata": {},
   "outputs": [
    {
     "name": "stdout",
     "output_type": "stream",
     "text": [
      "26\n"
     ]
    },
    {
     "data": {
      "text/plain": [
       "array([[0, 0, 0, 1, 0, 0, 0, 0],\n",
       "       [1, 0, 0, 1, 0, 0, 1, 0],\n",
       "       [0, 1, 0, 1, 0, 1, 0, 0],\n",
       "       [0, 0, 1, 1, 1, 0, 0, 0],\n",
       "       [1, 1, 1, 1, 1, 1, 1, 1],\n",
       "       [0, 0, 1, 1, 1, 0, 0, 0],\n",
       "       [0, 1, 0, 1, 0, 1, 0, 0],\n",
       "       [1, 0, 0, 1, 0, 0, 1, 0]])"
      ]
     },
     "execution_count": 19,
     "metadata": {},
     "output_type": "execute_result"
    }
   ],
   "source": [
    "calculate_queens_step(8, 4, 3, (3, 5))"
   ]
  },
  {
   "cell_type": "code",
   "execution_count": null,
   "metadata": {},
   "outputs": [],
   "source": []
  }
 ],
 "metadata": {
  "kernelspec": {
   "display_name": "Python 3",
   "language": "python",
   "name": "python3"
  },
  "language_info": {
   "codemirror_mode": {
    "name": "ipython",
    "version": 3
   },
   "file_extension": ".py",
   "mimetype": "text/x-python",
   "name": "python",
   "nbconvert_exporter": "python",
   "pygments_lexer": "ipython3",
   "version": "3.8.5"
  }
 },
 "nbformat": 4,
 "nbformat_minor": 4
}
