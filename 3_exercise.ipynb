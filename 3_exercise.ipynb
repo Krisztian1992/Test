{
 "cells": [
  {
   "cell_type": "markdown",
   "metadata": {},
   "source": [
    "#### 3. Exercise\n",
    "Create a function which produces an 𝑛×𝑛 array which contains ±1 numbers like a chessboard."
   ]
  },
  {
   "cell_type": "markdown",
   "metadata": {},
   "source": [
    "##### Task description:\n",
    "Example: [4, 4]\n",
    "1. The function gets an integer: 4\n",
    "2. Creating a nxn 2D array with zeros by the input integer: 4x4\n",
    "3. Looping through each line and each element of the 4x4 array.\n",
    "4. Determine the ith and the jth element, and giving them +1, -1 value depending on the (-1) ** (i+j)."
   ]
  },
  {
   "cell_type": "code",
   "execution_count": 47,
   "metadata": {},
   "outputs": [],
   "source": [
    "import numpy as np"
   ]
  },
  {
   "cell_type": "code",
   "execution_count": 48,
   "metadata": {},
   "outputs": [],
   "source": [
    "def multi_array(n:int):\n",
    "    # The function gives an integer number, which is the dimension of the array both direction.\n",
    "    \n",
    "    # Creating a 2D array with zeros.\n",
    "    x = np.zeros((n, n), dtype='int32')\n",
    "    \n",
    "    # Looping through the array, and setting each of the element of the array to 1 or -1.\n",
    "    for i in range(n):\n",
    "        for j in range(n):            \n",
    "            x[i, j] = (-1)**(i+j)\n",
    "            \n",
    "    return x"
   ]
  },
  {
   "cell_type": "code",
   "execution_count": 49,
   "metadata": {},
   "outputs": [
    {
     "data": {
      "text/plain": [
       "array([[ 1, -1,  1, -1],\n",
       "       [-1,  1, -1,  1],\n",
       "       [ 1, -1,  1, -1],\n",
       "       [-1,  1, -1,  1]])"
      ]
     },
     "execution_count": 49,
     "metadata": {},
     "output_type": "execute_result"
    }
   ],
   "source": [
    "multi_array(4)"
   ]
  }
 ],
 "metadata": {
  "kernelspec": {
   "display_name": "Python 3",
   "language": "python",
   "name": "python3"
  },
  "language_info": {
   "codemirror_mode": {
    "name": "ipython",
    "version": 3
   },
   "file_extension": ".py",
   "mimetype": "text/x-python",
   "name": "python",
   "nbconvert_exporter": "python",
   "pygments_lexer": "ipython3",
   "version": "3.8.5"
  }
 },
 "nbformat": 4,
 "nbformat_minor": 4
}
