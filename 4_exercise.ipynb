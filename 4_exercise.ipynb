{
 "cells": [
  {
   "cell_type": "markdown",
   "metadata": {},
   "source": [
    "#### 4. Exercise\n",
    "Create a function which computes the Euclidean norm of each line for a 2D array.\n",
    "\n",
    "Use numpy operations and vectorization, avoid for cycles."
   ]
  },
  {
   "cell_type": "code",
   "execution_count": 5,
   "metadata": {},
   "outputs": [],
   "source": [
    "import numpy as np"
   ]
  },
  {
   "cell_type": "code",
   "execution_count": 6,
   "metadata": {},
   "outputs": [],
   "source": [
    "# Here is the wrong solution:\n",
    "def rowwise_norm(X):\n",
    "    \n",
    "    def my_dot(x, y):\n",
    "        result = 0.0\n",
    "        for i in range(len(x)):\n",
    "            result += x[i] * y[i]\n",
    "        return result\n",
    "\n",
    "    return np.array([np.sqrt(my_dot(x, x)) for x in X])"
   ]
  },
  {
   "cell_type": "code",
   "execution_count": 7,
   "metadata": {},
   "outputs": [
    {
     "name": "stdout",
     "output_type": "stream",
     "text": [
      "[0.         1.73205081 3.46410162 5.19615242 6.92820323]\n",
      "[1. 1. 1. 1.]\n"
     ]
    }
   ],
   "source": [
    "X = np.arange(5)[:, None]*np.ones((5, 3));\n",
    "\n",
    "print(rowwise_norm(X))\n",
    "\n",
    "print(rowwise_norm([[1], [-1], [1], [-1]]))"
   ]
  },
  {
   "cell_type": "markdown",
   "metadata": {},
   "source": [
    "##### The solution"
   ]
  },
  {
   "cell_type": "code",
   "execution_count": 11,
   "metadata": {},
   "outputs": [],
   "source": [
    "def rowwise_norm_solution(X):\n",
    "    # The function gets a 2D array.\n",
    "    \n",
    "    # Calculating the square of each element of the array.\n",
    "    square_each_element = np.square(X)\n",
    "    \n",
    "    # Calculating the sum of the elements of the array in each line.\n",
    "    sum_columns = np.sum(square_each_element, axis=1)\n",
    "    \n",
    "    # Calculating the square root of each element of the array.\n",
    "    sqrt_array = np.sqrt(sum_columns)\n",
    "    \n",
    "    return sqrt_array"
   ]
  },
  {
   "cell_type": "code",
   "execution_count": 12,
   "metadata": {},
   "outputs": [
    {
     "data": {
      "text/plain": [
       "array([0.        , 1.73205081, 3.46410162, 5.19615242, 6.92820323])"
      ]
     },
     "execution_count": 12,
     "metadata": {},
     "output_type": "execute_result"
    }
   ],
   "source": [
    "rowwise_norm_solution(X)"
   ]
  },
  {
   "cell_type": "code",
   "execution_count": 13,
   "metadata": {},
   "outputs": [
    {
     "data": {
      "text/plain": [
       "array([1., 1., 1., 1.])"
      ]
     },
     "execution_count": 13,
     "metadata": {},
     "output_type": "execute_result"
    }
   ],
   "source": [
    "rowwise_norm_solution([[1], [-1], [1], [-1]])"
   ]
  }
 ],
 "metadata": {
  "kernelspec": {
   "display_name": "Python 3",
   "language": "python",
   "name": "python3"
  },
  "language_info": {
   "codemirror_mode": {
    "name": "ipython",
    "version": 3
   },
   "file_extension": ".py",
   "mimetype": "text/x-python",
   "name": "python",
   "nbconvert_exporter": "python",
   "pygments_lexer": "ipython3",
   "version": "3.8.5"
  }
 },
 "nbformat": 4,
 "nbformat_minor": 4
}
