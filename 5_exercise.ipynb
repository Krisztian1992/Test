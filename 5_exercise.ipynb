{
 "cells": [
  {
   "cell_type": "markdown",
   "metadata": {},
   "source": [
    "#### 5. Exercise\n",
    "Create a function which expects any number of square matrices and outputs a block-matrix which contains the input matrices in its main diagonal, and contains 0 in every other\n",
    "place.\n",
    "\n",
    "Input is a list, containing the matrices."
   ]
  },
  {
   "cell_type": "markdown",
   "metadata": {},
   "source": [
    "##### Task description:\n",
    "\n",
    "1. The function creates a 2D array with zeros based on the length of the input list in both direction.\n",
    "2. Looping through the diagonal elements of the zeros array.\n",
    "3. Setting the diagonal elements, which are equal with the elements of the input matrix list."
   ]
  },
  {
   "cell_type": "code",
   "execution_count": 58,
   "metadata": {},
   "outputs": [],
   "source": [
    "import numpy as np"
   ]
  },
  {
   "cell_type": "code",
   "execution_count": 59,
   "metadata": {},
   "outputs": [],
   "source": [
    "x = np.array([[1, 2], [2, 3]])\n",
    "y = np.array([[5, 6], [6, 7]])"
   ]
  },
  {
   "cell_type": "code",
   "execution_count": 60,
   "metadata": {},
   "outputs": [],
   "source": [
    "matrix_list = [x, y]"
   ]
  },
  {
   "cell_type": "code",
   "execution_count": 63,
   "metadata": {},
   "outputs": [],
   "source": [
    "def create_diag_matrix(matrix_list: list):\n",
    "    # The function gets an input list, which contains the matrcies.\n",
    "    \n",
    "    # Checking the input list is a list object.\n",
    "    if isinstance(matrix_list, list):\n",
    "        \n",
    "        # Creating a 2D array with zeros, which is the length of the input matrix in both direction.\n",
    "        mtx = np.zeros((len(matrix_list), len(matrix_list)), dtype=list)\n",
    "        \n",
    "        # Looping through the diagonal elements of the zeros array and setting the diagonal elements, which are equal with the elements of the input matrix list.\n",
    "        for i in range(len(mtx)):\n",
    "            mtx[i, i] = matrix_list[i]\n",
    "            \n",
    "        return mtx\n",
    "    \n",
    "    return None"
   ]
  },
  {
   "cell_type": "code",
   "execution_count": 64,
   "metadata": {},
   "outputs": [
    {
     "name": "stdout",
     "output_type": "stream",
     "text": [
      "[[array([[1, 2],\n",
      "       [2, 3]]) 0]\n",
      " [0 array([[5, 6],\n",
      "       [6, 7]])]]\n"
     ]
    }
   ],
   "source": [
    "print(create_diag_matrix(matrix_list))"
   ]
  }
 ],
 "metadata": {
  "kernelspec": {
   "display_name": "Python 3",
   "language": "python",
   "name": "python3"
  },
  "language_info": {
   "codemirror_mode": {
    "name": "ipython",
    "version": 3
   },
   "file_extension": ".py",
   "mimetype": "text/x-python",
   "name": "python",
   "nbconvert_exporter": "python",
   "pygments_lexer": "ipython3",
   "version": "3.8.5"
  }
 },
 "nbformat": 4,
 "nbformat_minor": 4
}
